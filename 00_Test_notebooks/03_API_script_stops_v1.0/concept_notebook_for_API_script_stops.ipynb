{
 "cells": [
  {
   "cell_type": "code",
   "execution_count": 2,
   "metadata": {},
   "outputs": [],
   "source": [
    "import pandas as pd\n",
    "import requests\n",
    "import gc\n",
    "import tqdm\n",
    "from datetime import datetime\n",
    "import json"
   ]
  },
  {
   "cell_type": "code",
   "execution_count": 5,
   "metadata": {},
   "outputs": [],
   "source": [
    "# aktualna data i godzina\n",
    "now = datetime.now().strftime(\"%Y-%m-%d\")"
   ]
  },
  {
   "cell_type": "code",
   "execution_count": 6,
   "metadata": {},
   "outputs": [
    {
     "data": {
      "text/plain": [
       "'20-10-2022'"
      ]
     },
     "execution_count": 6,
     "metadata": {},
     "output_type": "execute_result"
    }
   ],
   "source": [
    "now"
   ]
  },
  {
   "cell_type": "code",
   "execution_count": 3,
   "metadata": {},
   "outputs": [],
   "source": [
    "# wczytaj klucz API\n",
    "with open('credentials.json') as f:\n",
    "   API_KEY = json.load(f)['API_KEY']"
   ]
  },
  {
   "cell_type": "markdown",
   "metadata": {},
   "source": [
    "### Pobranie wszystkich przystanków ###"
   ]
  },
  {
   "cell_type": "markdown",
   "metadata": {},
   "source": [
    "---"
   ]
  },
  {
   "cell_type": "code",
   "execution_count": 4,
   "metadata": {},
   "outputs": [],
   "source": [
    "def make_stops_table(API_KEY: str) -> pd.DataFrame:\n",
    "    '''\n",
    "    Utwórz tabelę z podstawowywmi danymi przystankowymi.\n",
    "\n",
    "    Arguments:\n",
    "        API_KEY: klucz api \n",
    "\n",
    "    Returns:\n",
    "        Dataframe m.in. ze współrzędnymi geogranicznymi przystanków\n",
    "    '''\n",
    "    \n",
    "    # informacje o przystankach z aktualnego dnia\n",
    "    stops_link = 'https://api.um.warszawa.pl/api/action/dbstore_get/?id=1c08a38c-ae09-46d2-8926-4f9d25cb0630&apikey=' + API_KEY\n",
    "    \n",
    "    # zrób request do API\n",
    "    requested_data = requests.get(stops_link)\n",
    "\n",
    "    # zamień na json\n",
    "    json_dictionary = requested_data.json()\n",
    "\n",
    "    # utwórz dataframe\n",
    "    df = pd.json_normalize(json_dictionary['result'])\n",
    "\n",
    "    # wszystkie dane są w formie:\n",
    "    # {'value': '01', 'key': 'slupek'},\n",
    "    # {'value': 'Kijowska', 'key': 'nazwa_zespolu'},\n",
    "    # {'value': '2201', 'key': 'id_ulicy'},\n",
    "    # ...\n",
    "\n",
    "    # pobierz nazwy kolumn na podstawie kluczy z pierwszej obserwacji\n",
    "    column_names = df['values'].apply(pd.Series).iloc[0].apply(lambda x: x.get('key')).tolist()\n",
    "\n",
    "    # przypisz nazwy kolumn\n",
    "    df = df['values'].apply(pd.Series)\n",
    "    df.columns = column_names\n",
    "\n",
    "    # wydobądź values ze słownika i użyj ich jako wartości w dataframe\n",
    "    for col in column_names:\n",
    "        df[col] = df[col].apply(lambda x: x.get('value'))\n",
    "    \n",
    "    return df"
   ]
  },
  {
   "cell_type": "code",
   "execution_count": 57,
   "metadata": {},
   "outputs": [],
   "source": [
    "df = make_stops_table(API_KEY)"
   ]
  },
  {
   "cell_type": "code",
   "execution_count": null,
   "metadata": {},
   "outputs": [],
   "source": [
    "df"
   ]
  },
  {
   "cell_type": "markdown",
   "metadata": {},
   "source": [
    "### Pobranie linii dla przystanów ###"
   ]
  },
  {
   "cell_type": "markdown",
   "metadata": {},
   "source": [
    "---"
   ]
  },
  {
   "cell_type": "code",
   "execution_count": null,
   "metadata": {},
   "outputs": [],
   "source": [
    "def add_lines_to_stops_table(df: pd.DataFrame, API_KEY: str) -> pd.DataFrame:\n",
    "    '''\n",
    "    Zadaje zapytanie do każdego przystanku o numery linii, jakie są przez niego obsługiwane\n",
    "\n",
    "    Arguments:\n",
    "        df: tabela z zespołami i słupkami przystanków\n",
    "        API_KEY: klucz api\n",
    "    \n",
    "    Returns:\n",
    "        Tabela z dodatkową kolumną 'linie', gdzie są wszystkie numery linii jakie są\n",
    "        dostępne dla danego przystanku\n",
    "    '''\n",
    "    df['linie'] = None # wstaw pustą kolumns\n",
    "\n",
    "    # dla każdego wpisu zrób zapytanie o informacje przystankowe\n",
    "    for index, row in tqdm.tqdm(df[['zespol', 'slupek']].iterrows(), total = df.shape[0]):\n",
    "        zespol = row['zespol']\n",
    "        slupek = row['slupek']\n",
    "\n",
    "        link = 'https://api.um.warszawa.pl/api/action/dbtimetable_get/?id=88cd555f-6f31-43ca-9de4-66c479ad5942&busstopId=' + zespol + '&busstopNr=' + slupek + '&apikey=' + API_KEY\n",
    "\n",
    "        requested_data = requests.get(link)\n",
    "        json_dictionary = requested_data.json()\n",
    "        lines = [elem.get('values')[0].get('value') for elem in json_dictionary['result']]\n",
    "        \n",
    "        df.loc[index, 'linie'] = lines\n",
    "    \n",
    "    # weź pod uwagę tylko aktywne przystanki\n",
    "    df = df[df['linie'].map(lambda x: len(x)>0)]\n",
    "    return df"
   ]
  },
  {
   "cell_type": "code",
   "execution_count": null,
   "metadata": {},
   "outputs": [],
   "source": [
    "df = add_lines_to_stops_table(df, API_KEY)"
   ]
  },
  {
   "cell_type": "code",
   "execution_count": 312,
   "metadata": {},
   "outputs": [],
   "source": [
    "# zapisz do pickle\n",
    "df.to_pickle(f'przystanki_{now}.pkl', compression='zip')"
   ]
  },
  {
   "cell_type": "markdown",
   "metadata": {},
   "source": [
    "---"
   ]
  },
  {
   "cell_type": "markdown",
   "metadata": {},
   "source": [
    "### Pobranie rozkładów dla linii ###"
   ]
  },
  {
   "cell_type": "code",
   "execution_count": 21,
   "metadata": {},
   "outputs": [],
   "source": [
    "def make_timetables_for_lines(df: pd.DataFrame, API_KEY: str) -> pd.DataFrame:\n",
    "    '''\n",
    "    Zadaje zapytanie do każdego numeru linii jaki występuje na każdym\n",
    "    przystanku o jego rozkład z danego przystanku\n",
    "\n",
    "    Arguments:\n",
    "        df: tabela z danymi przystankowymi oraz z numerami linii (kolumna 'linie')\n",
    "    \n",
    "    Return:\n",
    "        Tabela ze wszystkimi brygadami, trasami oraz rozkładem dla każdej linii\n",
    "        dla każdego przystanku\n",
    "    '''\n",
    "\n",
    "    # rozszerz tabelę tak, aby w każdym wieszu był numer linii\n",
    "    df_full = df.explode('linie')\n",
    "\n",
    "    # wstaw puste kolumny\n",
    "    df_full['brygada'] = None\n",
    "    df_full['trasa'] = None\n",
    "    df_full['czas'] = None\n",
    "\n",
    "    # dla każdego numeru linii na każdym przystanku pobierz rozkłady jazdy\n",
    "    for index, row in tqdm.tqdm(df_full.iterrows(), total = df_full.shape[0]):\n",
    "        zespol = row['zespol']\n",
    "        slupek = row['slupek']\n",
    "        linia = row['linie']\n",
    "        \n",
    "        link = 'https://api.um.warszawa.pl/api/action/dbtimetable_get/?id=e923fa0e-d96c-43f9-ae6e-60518c9f3238&busstopId=' + zespol + '&busstopNr=' + slupek + '&line=' + linia + '&apikey=' + API_KEY\n",
    "\n",
    "        requested_data = requests.get(link)\n",
    "        json_dictionary = requested_data.json()\n",
    "        \n",
    "        brygada = tuple(d['value'] for d in [json_dictionary['result'][n].get('values')[2] for n in range(len(json_dictionary['result']))])\n",
    "        trasa = tuple(d['value'] for d in [json_dictionary['result'][n].get('values')[4] for n in range(len(json_dictionary['result']))])\n",
    "        czas = tuple(d['value'] for d in [json_dictionary['result'][n].get('values')[5] for n in range(len(json_dictionary['result']))])\n",
    "        \n",
    "        row['brygada'] = brygada\n",
    "        row['trasa'] = trasa\n",
    "        row['czas'] = czas\n",
    "    \n",
    "    # zostawiamy tylko te kolumny, które są istotne do dalszej analizy\n",
    "    df_full = df_full.drop(['nazwa_zespolu', 'id_ulicy', 'szer_geo', 'dlug_geo', 'kierunek', 'obowiazuje_od'],axis = 1)\n",
    "    \n",
    "    # pozbywamy się sekund w kolumnie 'czas'\n",
    "    df_full['czas'] = df_full['czas'].apply(lambda x: tuple(x[elem][:-3] for elem in range(len(x))) if len(x) >=1 else x)\n",
    "\n",
    "    # określamy typy pojazdów\n",
    "\n",
    "    df_full['typ'] = 'A' # przypisz 'A' dla wszystkich typów pojazdów\n",
    "\n",
    "    # df_full[df_full['linie'].str.contains('WKD', na=False)]['typ'] == 'WKD' # przypisz WKD\n",
    "\n",
    "    df_full.loc[df_full['linie'].str.contains('WKD', na=False), 'typ'] = 'WKD' # oznacz WKD\n",
    "    df_full.loc[df_full['linie'].apply(lambda x: str(x)[0] == 'R'), 'typ'] = 'R' # oznacz pociągi KM\n",
    "    df_full.loc[df_full['linie'].apply(lambda x: str(x)[0] == 'S'), 'typ'] = 'S' # oznacz pociągi SKM\n",
    "    df_full.loc[df_full['linie'].apply(lambda x: str(x)[0] == 'M'), 'typ'] = 'M' # oznacz pociągi metra\n",
    "    df_full = df_full.reset_index()\n",
    "\n",
    "    # znajdź indeksy tych wierszy, które mają oznaczenie 'A' i ich długość jest nie większa niż 2\n",
    "    less_then_2_index =  df_full[(df_full.typ == 'A') & (df_full.linie.str.len()<=2)].index.tolist()\n",
    "\n",
    "    df_full.loc[less_then_2_index,'typ'] = 'T' # oznacz tramwaje\n",
    "\n",
    "    return df_full"
   ]
  },
  {
   "cell_type": "code",
   "execution_count": null,
   "metadata": {},
   "outputs": [],
   "source": [
    "df_full = make_timetables_for_lines(df, API_KEY)"
   ]
  },
  {
   "cell_type": "markdown",
   "metadata": {},
   "source": [
    "---"
   ]
  },
  {
   "cell_type": "code",
   "execution_count": null,
   "metadata": {},
   "outputs": [],
   "source": [
    "# rozszerz tabelę w oparciu o numery linii\n",
    "df_full = df.explode('linie')\n",
    "df_full"
   ]
  },
  {
   "cell_type": "code",
   "execution_count": 270,
   "metadata": {},
   "outputs": [
    {
     "name": "stderr",
     "output_type": "stream",
     "text": [
      "100%|██████████| 20718/20718 [2:55:03<00:00,  1.97it/s]  \n"
     ]
    }
   ],
   "source": [
    "# wstaw puste kolumny\n",
    "df_full['brygada'] = None\n",
    "df_full['trasa'] = None\n",
    "df_full['czas'] = None\n",
    "\n",
    "# dla każdego numeru linii na każdym przystanku pobierz rozkłady jazdy\n",
    "for index, row in tqdm.tqdm(df_full.iterrows(), total = df_full.shape[0]):\n",
    "    zespol = row['zespol']\n",
    "    slupek = row['slupek']\n",
    "    linia = row['linie']\n",
    "    \n",
    "    link = 'https://api.um.warszawa.pl/api/action/dbtimetable_get/?id=e923fa0e-d96c-43f9-ae6e-60518c9f3238&busstopId=' + zespol + '&busstopNr=' + slupek + '&line=' + linia + '&apikey=' + API_KEY\n",
    "    requested_data = requests.get(link)\n",
    "    json_dictionary = requested_data.json()\n",
    "    \n",
    "    brygada = tuple(d['value'] for d in [json_dictionary['result'][n].get('values')[2] for n in range(len(json_dictionary['result']))])\n",
    "    trasa = tuple(d['value'] for d in [json_dictionary['result'][n].get('values')[4] for n in range(len(json_dictionary['result']))])\n",
    "    czas = tuple(d['value'] for d in [json_dictionary['result'][n].get('values')[5] for n in range(len(json_dictionary['result']))])\n",
    "    \n",
    "    row['brygada'] = brygada\n",
    "    row['trasa'] = trasa\n",
    "    row['czas'] = czas"
   ]
  },
  {
   "cell_type": "code",
   "execution_count": null,
   "metadata": {},
   "outputs": [],
   "source": [
    "df_full"
   ]
  },
  {
   "cell_type": "code",
   "execution_count": null,
   "metadata": {},
   "outputs": [],
   "source": [
    "# zostawiamy tylko te kolumny, które są istotne do dalszej analizy\n",
    "df_full = df_full.drop(['nazwa_zespolu', 'id_ulicy', 'szer_geo', 'dlug_geo', 'kierunek', 'obowiazuje_od'],axis = 1)"
   ]
  },
  {
   "cell_type": "code",
   "execution_count": 15,
   "metadata": {},
   "outputs": [],
   "source": [
    "# pozbywamy się sekund w kolumnie 'czas'\n",
    "df_full['czas'] = df_full['czas'].apply(lambda x: tuple(x[elem][:-3] for elem in range(len(x))) if len(x) >=1 else x)"
   ]
  },
  {
   "cell_type": "code",
   "execution_count": null,
   "metadata": {},
   "outputs": [],
   "source": [
    "df_full"
   ]
  },
  {
   "cell_type": "code",
   "execution_count": 321,
   "metadata": {},
   "outputs": [],
   "source": [
    "# określamy typy pojazdów\n",
    "\n",
    "df_full['typ'] = 'A' # przypisz 'A' dla wszystkich typów pojazdów\n",
    "\n",
    "# df_full[df_full['linie'].str.contains('WKD', na=False)]['typ'] == 'WKD' # przypisz WKD\n",
    "\n",
    "df_full.loc[df_full['linie'].str.contains('WKD', na=False), 'typ'] = 'WKD' # oznacz WKD\n",
    "df_full.loc[df_full['linie'].apply(lambda x: str(x)[0] == 'R'), 'typ'] = 'R' # oznacz pociągi KM\n",
    "df_full.loc[df_full['linie'].apply(lambda x: str(x)[0] == 'S'), 'typ'] = 'S' # oznacz pociągi SKM\n",
    "df_full.loc[df_full['linie'].apply(lambda x: str(x)[0] == 'M'), 'typ'] = 'M' # oznacz pociągi metra\n",
    "df_full = df_full.reset_index()\n",
    "\n",
    "# znajdź index=ksy tych wierszy, które mają oznaczenie 'A' i ich długość jest nie większa niż 2\n",
    "less_then_2_index =  df_full[(df_full.typ == 'A') & (df_full.linie.str.len()<=2)].index.tolist()\n",
    "\n",
    "df_full.loc[less_then_2_index,'typ'] = 'T' # oznacz tramwaje"
   ]
  },
  {
   "cell_type": "code",
   "execution_count": null,
   "metadata": {},
   "outputs": [],
   "source": [
    "df_full"
   ]
  },
  {
   "cell_type": "code",
   "execution_count": null,
   "metadata": {},
   "outputs": [],
   "source": [
    "df_full.sort_values(by='linie').head(30)"
   ]
  },
  {
   "cell_type": "markdown",
   "metadata": {},
   "source": [
    "---"
   ]
  },
  {
   "cell_type": "code",
   "execution_count": 329,
   "metadata": {},
   "outputs": [],
   "source": [
    "# zapisujemy do pliku\n",
    "df_full.to_pickle(f'rozklady_{now}.pkl', compression='zip')"
   ]
  },
  {
   "cell_type": "code",
   "execution_count": null,
   "metadata": {},
   "outputs": [],
   "source": [
    "# czyszczenie pamięci\n",
    "del requested_data\n",
    "del json_dictionary\n",
    "del df\n",
    "del df_full\n",
    "gc.collect()"
   ]
  },
  {
   "cell_type": "code",
   "execution_count": 7,
   "metadata": {},
   "outputs": [],
   "source": [
    "df = pd.read_pickle('przystanki_2022-10-22.pkl', compression='zip')\n",
    "df_full = pd.read_pickle('rozklady_2022-10-22.pkl', compression='zip')"
   ]
  },
  {
   "cell_type": "code",
   "execution_count": 8,
   "metadata": {},
   "outputs": [],
   "source": [
    "def generate_all_vehicle_numbers(df_full: pd.DataFrame, vehicle_type: str = None) -> list:\n",
    "    '''\n",
    "    Utwóz listę numerów wszystkich pojazdów\n",
    "\n",
    "    Arguments:\n",
    "        df_full: tabela z pełnymi danymi przystankowymi, numerami linii, brygadami i czasami\n",
    "        vehicle_type: typ pojazdu. Możliwe opcje:\n",
    "            T - tramwaj\n",
    "            A - autobus\n",
    "            M - metro\n",
    "            S - pociag SKM \n",
    "            R - pociąg KM \n",
    "            WKD - pociąg WKD \n",
    "            None - wszystkie typy pojazdów\n",
    "        \n",
    "    Returns:\n",
    "        Lista unikalnyh numerów pojazdów\n",
    "    '''\n",
    "    if vehicle_type == None:\n",
    "        return df_full[df_full['brygada'].apply(lambda x: len(x)>0)]['linie'].unique().tolist()\n",
    "    else:\n",
    "       return  df_full[(df_full['typ'] == vehicle_type) & (df_full['brygada'].apply(lambda x: len(x)>0))]['linie'].unique().tolist()"
   ]
  },
  {
   "cell_type": "code",
   "execution_count": 9,
   "metadata": {},
   "outputs": [],
   "source": [
    "lines_list = generate_all_vehicle_numbers(df_full, None)"
   ]
  },
  {
   "cell_type": "code",
   "execution_count": null,
   "metadata": {},
   "outputs": [],
   "source": [
    "lines_list"
   ]
  },
  {
   "cell_type": "code",
   "execution_count": 11,
   "metadata": {},
   "outputs": [],
   "source": [
    "def make_timetables_dict(df_full: pd.DataFrame, lines_list: list) -> dict:\n",
    "    '''\n",
    "    Generuje trasy na podstawie pobranych informacji.\n",
    "\n",
    "    Arguments:\n",
    "        lines_list: lista unikalnych numerów linii\n",
    "        df_full: tabela z pełnymi danymi przystankowymi, numerami linii, brygadami i czasami\n",
    "    Returns:\n",
    "        Słownik w następującej postaci:\n",
    "        {'102': {'57_TP-OLS': \n",
    "                    [('05:02', '1231_07'),\n",
    "                    ('05:03', '1232_04'),\n",
    "                    ('05:04', '1231_02'),\n",
    "                    ('05:06', '1001_01'),\n",
    "                    ('05:07', '2001_04'),\n",
    "                    ...\n",
    "    '''\n",
    "    lines_dict = {}\n",
    "    for line in tqdm.tqdm(lines_list):\n",
    "        df_test = df_full[df_full['linie'] == line]\n",
    "        df_test['concat'] = None\n",
    "        d = {}\n",
    "        for index, row in df_test.iterrows():\n",
    "            df_test.at[index, 'concat'] = {a:x +'_'+ y for (a, x, y) in zip(df_test['czas'][index], df_test['brygada'][index], df_test['trasa'][index])}\n",
    "            for k,v in df_test.at[index, 'concat'].items():\n",
    "                d.setdefault(v, []).append((k, df_test.at[index, 'zespol']+'_'+df_test.at[index, 'slupek'])) \n",
    "\n",
    "        for bt in d:\n",
    "            d[bt] = sorted(list(d.values())[0], key = lambda x: x[0])\n",
    "        lines_dict[line] = d\n",
    "    return lines_dict"
   ]
  },
  {
   "cell_type": "code",
   "execution_count": 12,
   "metadata": {},
   "outputs": [
    {
     "name": "stderr",
     "output_type": "stream",
     "text": [
      "  0%|          | 0/295 [00:00<?, ?it/s]c:\\Users\\mariu\\AppData\\Local\\Programs\\Python\\Python37\\lib\\site-packages\\ipykernel_launcher.py:21: SettingWithCopyWarning: \n",
      "A value is trying to be set on a copy of a slice from a DataFrame.\n",
      "Try using .loc[row_indexer,col_indexer] = value instead\n",
      "\n",
      "See the caveats in the documentation: https://pandas.pydata.org/pandas-docs/stable/user_guide/indexing.html#returning-a-view-versus-a-copy\n",
      "100%|██████████| 295/295 [00:12<00:00, 22.82it/s]\n"
     ]
    }
   ],
   "source": [
    "lines_dict = make_timetables_dict(df_full, lines_list)"
   ]
  },
  {
   "cell_type": "code",
   "execution_count": null,
   "metadata": {},
   "outputs": [],
   "source": [
    "lines_dict"
   ]
  }
 ],
 "metadata": {
  "interpreter": {
   "hash": "f5dc7221bd57f443bd21d92d893b3958d3081f94c6c945d5f95188cb4cde5b4f"
  },
  "kernelspec": {
   "display_name": "Python 3.7.5 64-bit",
   "language": "python",
   "name": "python3"
  },
  "language_info": {
   "codemirror_mode": {
    "name": "ipython",
    "version": 3
   },
   "file_extension": ".py",
   "mimetype": "text/x-python",
   "name": "python",
   "nbconvert_exporter": "python",
   "pygments_lexer": "ipython3",
   "version": "3.7.5"
  },
  "orig_nbformat": 4
 },
 "nbformat": 4,
 "nbformat_minor": 2
}
