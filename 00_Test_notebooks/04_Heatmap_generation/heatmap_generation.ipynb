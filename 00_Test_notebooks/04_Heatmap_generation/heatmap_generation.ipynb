{
 "cells": [
  {
   "cell_type": "markdown",
   "metadata": {},
   "source": [
    "Utworzneie heatmapy na podstawie współrzędnych przystanów i linii, które obsługują"
   ]
  },
  {
   "cell_type": "code",
   "execution_count": 1,
   "metadata": {},
   "outputs": [],
   "source": [
    "# import bibliotek\n",
    "import pandas as pd\n",
    "import folium\n",
    "from folium import plugins"
   ]
  },
  {
   "cell_type": "code",
   "execution_count": 2,
   "metadata": {},
   "outputs": [],
   "source": [
    "# plik z przystankami z danego dnia\n",
    "FILE_NAME = 'przystanki_2022-10-22.pkl'"
   ]
  },
  {
   "cell_type": "code",
   "execution_count": 3,
   "metadata": {},
   "outputs": [],
   "source": [
    "# wczytanie pliku i komwersja typów\n",
    "df = pd.read_pickle(FILE_NAME, compression='zip')\n",
    "df['szer_geo'] = df['szer_geo'].astype(float)\n",
    "df['dlug_geo'] = df['dlug_geo'].astype(float)"
   ]
  },
  {
   "cell_type": "code",
   "execution_count": 4,
   "metadata": {},
   "outputs": [],
   "source": [
    "# obliczenie ilości linii i ich normalizacja (utworzenie wag)\n",
    "df['n_linii'] = df['linie'].apply(lambda x: len(x))\n",
    "df['n_linii_norm'] = df['n_linii'] / df['n_linii'].max()"
   ]
  },
  {
   "cell_type": "code",
   "execution_count": 5,
   "metadata": {},
   "outputs": [],
   "source": [
    "# utworzenie mapy folium (start w punkcie centralnym)\n",
    "map = folium.Map(location=[df.szer_geo.mean(), df.dlug_geo.mean()], zoom_start=14, control_scale=True) \n",
    "\n",
    "# tworzenie markerów\n",
    "for index, data in df.iterrows():\n",
    "    folium.CircleMarker(\n",
    "        [data['szer_geo'], data['dlug_geo']], # współrzędne geograficzne markera\n",
    "        popup=f'<b>{data.nazwa_zespolu} {data.slupek}</b><br>{data.linie}', # popup z nazwą zespołu, numerem słupka oraz spisem linii\n",
    "        radius=2).add_to(map) # wielkość markera\n",
    "\n",
    "# wydzielona tabela ze współrzędnymi geograficznymi oraz utworzonymi wcześniej wagami\n",
    "lines_df = df[['szer_geo', 'dlug_geo', 'n_linii_norm']]\n",
    "\n",
    "# dodanie heatmapy do już utworzonej mapy folium \n",
    "plugins.HeatMap(lines_df).add_to(map)\n",
    "\n",
    "# zapis do pliku html\n",
    "map.save('HEAT_MAP.HTML')"
   ]
  },
  {
   "cell_type": "code",
   "execution_count": null,
   "metadata": {},
   "outputs": [],
   "source": []
  }
 ],
 "metadata": {
  "interpreter": {
   "hash": "f5dc7221bd57f443bd21d92d893b3958d3081f94c6c945d5f95188cb4cde5b4f"
  },
  "kernelspec": {
   "display_name": "Python 3.7.5 64-bit",
   "language": "python",
   "name": "python3"
  },
  "language_info": {
   "codemirror_mode": {
    "name": "ipython",
    "version": 3
   },
   "file_extension": ".py",
   "mimetype": "text/x-python",
   "name": "python",
   "nbconvert_exporter": "python",
   "pygments_lexer": "ipython3",
   "version": "3.7.5"
  },
  "orig_nbformat": 4
 },
 "nbformat": 4,
 "nbformat_minor": 2
}
